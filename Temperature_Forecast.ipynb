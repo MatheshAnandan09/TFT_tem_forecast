{
 "cells": [
  {
   "cell_type": "code",
   "execution_count": 11,
   "id": "82b6ac30-cc57-49f1-b7f5-a64ea1c37257",
   "metadata": {},
   "outputs": [],
   "source": [
    "import torch\n",
    "import torch.nn as nn\n",
    "import pytorch_lightning as pl \n",
    "from torch.utils.data import Dataset, DataLoader\n",
    "import pandas as pd \n",
    "import numpy as np \n",
    "import matplotlib.pyplot as plt \n",
    "from sklearn.preprocessing import MinMaxScaler, StandardScaler\n",
    "from pytorch_lightning.callbacks import ModelCheckpoint, TQDMProgressBar, EarlyStopping"
   ]
  },
  {
   "cell_type": "code",
   "execution_count": 12,
   "id": "405313f1-138c-4f2a-b3a9-80b24aece10d",
   "metadata": {},
   "outputs": [],
   "source": [
    "df = pd.read_csv('/Users/matheshanandan/Downloads/Time series aalysis/temperature_data_new_2024.csv')"
   ]
  },
  {
   "cell_type": "code",
   "execution_count": 13,
   "id": "a969c03d-8168-4057-9760-228f8fde48e9",
   "metadata": {},
   "outputs": [
    {
     "data": {
      "text/plain": [
       "Index(['Unnamed: 0', 'date', 'temperature_2m', 'relative_humidity_2m',\n",
       "       'precipitation', 'weather_code', 'pressure_msl', 'surface_pressure',\n",
       "       'cloud_cover', 'vapour_pressure_deficit', 'wind_speed_10m',\n",
       "       'wind_gusts_10m', 'soil_temperature_0_to_7cm'],\n",
       "      dtype='object')"
      ]
     },
     "execution_count": 13,
     "metadata": {},
     "output_type": "execute_result"
    }
   ],
   "source": [
    "df.columns"
   ]
  },
  {
   "cell_type": "code",
   "execution_count": 14,
   "id": "1141c7b7-fd75-40f6-9e14-52479ed677de",
   "metadata": {},
   "outputs": [],
   "source": [
    "df = df[['date', 'temperature_2m', 'relative_humidity_2m','weather_code']]"
   ]
  },
  {
   "cell_type": "code",
   "execution_count": 15,
   "id": "cfcfa921-b418-4288-90b3-fdf01ced2919",
   "metadata": {},
   "outputs": [
    {
     "data": {
      "text/html": [
       "<div>\n",
       "<style scoped>\n",
       "    .dataframe tbody tr th:only-of-type {\n",
       "        vertical-align: middle;\n",
       "    }\n",
       "\n",
       "    .dataframe tbody tr th {\n",
       "        vertical-align: top;\n",
       "    }\n",
       "\n",
       "    .dataframe thead th {\n",
       "        text-align: right;\n",
       "    }\n",
       "</style>\n",
       "<table border=\"1\" class=\"dataframe\">\n",
       "  <thead>\n",
       "    <tr style=\"text-align: right;\">\n",
       "      <th></th>\n",
       "      <th>date</th>\n",
       "      <th>temperature_2m</th>\n",
       "      <th>relative_humidity_2m</th>\n",
       "      <th>weather_code</th>\n",
       "    </tr>\n",
       "  </thead>\n",
       "  <tbody>\n",
       "    <tr>\n",
       "      <th>0</th>\n",
       "      <td>2010-01-01 00:00:00+00:00</td>\n",
       "      <td>21.000000</td>\n",
       "      <td>94.60242</td>\n",
       "      <td>0.0</td>\n",
       "    </tr>\n",
       "    <tr>\n",
       "      <th>1</th>\n",
       "      <td>2010-01-01 01:00:00+00:00</td>\n",
       "      <td>21.150000</td>\n",
       "      <td>94.31649</td>\n",
       "      <td>0.0</td>\n",
       "    </tr>\n",
       "    <tr>\n",
       "      <th>2</th>\n",
       "      <td>2010-01-01 02:00:00+00:00</td>\n",
       "      <td>22.350000</td>\n",
       "      <td>92.64611</td>\n",
       "      <td>0.0</td>\n",
       "    </tr>\n",
       "    <tr>\n",
       "      <th>3</th>\n",
       "      <td>2010-01-01 03:00:00+00:00</td>\n",
       "      <td>24.950000</td>\n",
       "      <td>82.18280</td>\n",
       "      <td>1.0</td>\n",
       "    </tr>\n",
       "    <tr>\n",
       "      <th>4</th>\n",
       "      <td>2010-01-01 04:00:00+00:00</td>\n",
       "      <td>26.250000</td>\n",
       "      <td>72.43867</td>\n",
       "      <td>1.0</td>\n",
       "    </tr>\n",
       "    <tr>\n",
       "      <th>...</th>\n",
       "      <td>...</td>\n",
       "      <td>...</td>\n",
       "      <td>...</td>\n",
       "      <td>...</td>\n",
       "    </tr>\n",
       "    <tr>\n",
       "      <th>131491</th>\n",
       "      <td>2024-12-31 19:00:00+00:00</td>\n",
       "      <td>24.917501</td>\n",
       "      <td>84.21006</td>\n",
       "      <td>0.0</td>\n",
       "    </tr>\n",
       "    <tr>\n",
       "      <th>131492</th>\n",
       "      <td>2024-12-31 20:00:00+00:00</td>\n",
       "      <td>24.817501</td>\n",
       "      <td>83.68701</td>\n",
       "      <td>2.0</td>\n",
       "    </tr>\n",
       "    <tr>\n",
       "      <th>131493</th>\n",
       "      <td>2024-12-31 21:00:00+00:00</td>\n",
       "      <td>24.617500</td>\n",
       "      <td>83.92067</td>\n",
       "      <td>1.0</td>\n",
       "    </tr>\n",
       "    <tr>\n",
       "      <th>131494</th>\n",
       "      <td>2024-12-31 22:00:00+00:00</td>\n",
       "      <td>24.267500</td>\n",
       "      <td>85.17549</td>\n",
       "      <td>2.0</td>\n",
       "    </tr>\n",
       "    <tr>\n",
       "      <th>131495</th>\n",
       "      <td>2024-12-31 23:00:00+00:00</td>\n",
       "      <td>24.117500</td>\n",
       "      <td>84.89973</td>\n",
       "      <td>1.0</td>\n",
       "    </tr>\n",
       "  </tbody>\n",
       "</table>\n",
       "<p>131496 rows × 4 columns</p>\n",
       "</div>"
      ],
      "text/plain": [
       "                             date  temperature_2m  relative_humidity_2m  \\\n",
       "0       2010-01-01 00:00:00+00:00       21.000000              94.60242   \n",
       "1       2010-01-01 01:00:00+00:00       21.150000              94.31649   \n",
       "2       2010-01-01 02:00:00+00:00       22.350000              92.64611   \n",
       "3       2010-01-01 03:00:00+00:00       24.950000              82.18280   \n",
       "4       2010-01-01 04:00:00+00:00       26.250000              72.43867   \n",
       "...                           ...             ...                   ...   \n",
       "131491  2024-12-31 19:00:00+00:00       24.917501              84.21006   \n",
       "131492  2024-12-31 20:00:00+00:00       24.817501              83.68701   \n",
       "131493  2024-12-31 21:00:00+00:00       24.617500              83.92067   \n",
       "131494  2024-12-31 22:00:00+00:00       24.267500              85.17549   \n",
       "131495  2024-12-31 23:00:00+00:00       24.117500              84.89973   \n",
       "\n",
       "        weather_code  \n",
       "0                0.0  \n",
       "1                0.0  \n",
       "2                0.0  \n",
       "3                1.0  \n",
       "4                1.0  \n",
       "...              ...  \n",
       "131491           0.0  \n",
       "131492           2.0  \n",
       "131493           1.0  \n",
       "131494           2.0  \n",
       "131495           1.0  \n",
       "\n",
       "[131496 rows x 4 columns]"
      ]
     },
     "execution_count": 15,
     "metadata": {},
     "output_type": "execute_result"
    }
   ],
   "source": [
    "df"
   ]
  },
  {
   "cell_type": "code",
   "execution_count": 16,
   "id": "d9569cd3-8d42-4ac8-8c51-9009433d67aa",
   "metadata": {},
   "outputs": [],
   "source": [
    "df['date'] = pd.to_datetime(df['date'])"
   ]
  },
  {
   "cell_type": "code",
   "execution_count": 17,
   "id": "b7ca94da-8a25-4f3f-873d-15c473ab18f3",
   "metadata": {},
   "outputs": [],
   "source": [
    "INPUT_LENGTH = 24\n",
    "OUTPUT_LENGTH = 8\n",
    "class WeatherDataset(Dataset): \n",
    "    def __init__(self, df, input_length = INPUT_LENGTH, output_length = OUTPUT_LENGTH, scaler = None):\n",
    "        self.input_length = input_length \n",
    "        self.output_length = output_length\n",
    "        self.scaler = scaler\n",
    "        self.features = self.scaler.transform(df.drop('date', axis =1))\n",
    "    def __len__(self): \n",
    "        return len(self.features) - (self.input_length + self.output_length)\n",
    "\n",
    "    def __getitem__(self, idx): \n",
    "        x = self.features[idx: idx + self.input_length]\n",
    "        y = self.features[idx + self.input_length: idx + self.input_length+self.output_length, 0]\n",
    "\n",
    "        return torch.tensor(x, dtype = torch.float32), torch.tensor(y, dtype = torch.float32)\n",
    "\n",
    "train_df = df[df['date'] < '2022-01-01']\n",
    "test_df = df[df['date'] >='2022-01-01']\n",
    "\n",
    "\n",
    "scaler = StandardScaler()\n",
    "scaler = scaler.fit(train_df.drop('date', axis = 1))\n",
    "\n",
    "train_dataset = WeatherDataset(train_df, scaler= scaler)\n",
    "test_dataset = WeatherDataset(test_df, scaler= scaler)"
   ]
  },
  {
   "cell_type": "code",
   "execution_count": 18,
   "id": "0b25e15d-122e-4595-af36-758b31b98f53",
   "metadata": {},
   "outputs": [],
   "source": [
    "train_dataloader = DataLoader(train_dataset, batch_size=16, shuffle= True)\n",
    "test_dataloader = DataLoader(test_dataset, batch_size=16, shuffle= False)"
   ]
  },
  {
   "cell_type": "code",
   "execution_count": 19,
   "id": "30c93793-6cf8-413f-a92d-523dfb47b8b0",
   "metadata": {},
   "outputs": [
    {
     "name": "stderr",
     "output_type": "stream",
     "text": [
      "GPU available: True (mps), used: True\n",
      "TPU available: False, using: 0 TPU cores\n",
      "IPU available: False, using: 0 IPUs\n",
      "HPU available: False, using: 0 HPUs\n",
      "\n",
      "  | Name      | Type               | Params\n",
      "-------------------------------------------------\n",
      "0 | lstm      | LSTM               | 733 K \n",
      "1 | norm      | LayerNorm          | 492   \n",
      "2 | attention | MultiheadAttention | 243 K \n",
      "3 | glu       | Sequential         | 60.8 K\n",
      "4 | fc        | Linear             | 247   \n",
      "5 | dropout   | Dropout            | 0     \n",
      "6 | criterion | MSELoss            | 0     \n",
      "-------------------------------------------------\n",
      "1.0 M     Trainable params\n",
      "0         Non-trainable params\n",
      "1.0 M     Total params\n",
      "4.151     Total estimated model params size (MB)\n"
     ]
    },
    {
     "data": {
      "application/vnd.jupyter.widget-view+json": {
       "model_id": "7151b0877f73438582a8ad74bb353fa8",
       "version_major": 2,
       "version_minor": 0
      },
      "text/plain": [
       "Sanity Checking: 0it [00:00, ?it/s]"
      ]
     },
     "metadata": {},
     "output_type": "display_data"
    },
    {
     "name": "stderr",
     "output_type": "stream",
     "text": [
      "/opt/miniconda3/envs/pytorch_env/lib/python3.9/site-packages/pytorch_lightning/trainer/connectors/data_connector.py:430: PossibleUserWarning: The dataloader, val_dataloader, does not have many workers which may be a bottleneck. Consider increasing the value of the `num_workers` argument` (try 8 which is the number of cpus on this machine) in the `DataLoader` init to improve performance.\n",
      "  rank_zero_warn(\n",
      "/opt/miniconda3/envs/pytorch_env/lib/python3.9/site-packages/pytorch_lightning/trainer/connectors/data_connector.py:430: PossibleUserWarning: The dataloader, train_dataloader, does not have many workers which may be a bottleneck. Consider increasing the value of the `num_workers` argument` (try 8 which is the number of cpus on this machine) in the `DataLoader` init to improve performance.\n",
      "  rank_zero_warn(\n"
     ]
    },
    {
     "data": {
      "application/vnd.jupyter.widget-view+json": {
       "model_id": "1c6e693be4f04ab5a41f08ec52bd53ca",
       "version_major": 2,
       "version_minor": 0
      },
      "text/plain": [
       "Training: 0it [00:00, ?it/s]"
      ]
     },
     "metadata": {},
     "output_type": "display_data"
    },
    {
     "data": {
      "application/vnd.jupyter.widget-view+json": {
       "model_id": "2970a141e4e94db1966eef59b3956fee",
       "version_major": 2,
       "version_minor": 0
      },
      "text/plain": [
       "Validation: 0it [00:00, ?it/s]"
      ]
     },
     "metadata": {},
     "output_type": "display_data"
    },
    {
     "data": {
      "application/vnd.jupyter.widget-view+json": {
       "model_id": "ea1c20c96ab249edaca6d2e5f1bb4301",
       "version_major": 2,
       "version_minor": 0
      },
      "text/plain": [
       "Validation: 0it [00:00, ?it/s]"
      ]
     },
     "metadata": {},
     "output_type": "display_data"
    },
    {
     "data": {
      "application/vnd.jupyter.widget-view+json": {
       "model_id": "30eceac35f8e43babb717936f846b5c0",
       "version_major": 2,
       "version_minor": 0
      },
      "text/plain": [
       "Validation: 0it [00:00, ?it/s]"
      ]
     },
     "metadata": {},
     "output_type": "display_data"
    },
    {
     "data": {
      "application/vnd.jupyter.widget-view+json": {
       "model_id": "bfea2f7e67764f7e99637a31cc9a5e80",
       "version_major": 2,
       "version_minor": 0
      },
      "text/plain": [
       "Validation: 0it [00:00, ?it/s]"
      ]
     },
     "metadata": {},
     "output_type": "display_data"
    },
    {
     "data": {
      "application/vnd.jupyter.widget-view+json": {
       "model_id": "20e8be2a79c84a1bb3ebe5df8164a62f",
       "version_major": 2,
       "version_minor": 0
      },
      "text/plain": [
       "Validation: 0it [00:00, ?it/s]"
      ]
     },
     "metadata": {},
     "output_type": "display_data"
    },
    {
     "data": {
      "application/vnd.jupyter.widget-view+json": {
       "model_id": "1f4a5bb29bc74283b422264b64b3d088",
       "version_major": 2,
       "version_minor": 0
      },
      "text/plain": [
       "Validation: 0it [00:00, ?it/s]"
      ]
     },
     "metadata": {},
     "output_type": "display_data"
    },
    {
     "data": {
      "application/vnd.jupyter.widget-view+json": {
       "model_id": "8238fe83953b4ec6a67a066ff4e9a77b",
       "version_major": 2,
       "version_minor": 0
      },
      "text/plain": [
       "Validation: 0it [00:00, ?it/s]"
      ]
     },
     "metadata": {},
     "output_type": "display_data"
    },
    {
     "data": {
      "application/vnd.jupyter.widget-view+json": {
       "model_id": "1d653ca68958477bacd075d2dd8db3f7",
       "version_major": 2,
       "version_minor": 0
      },
      "text/plain": [
       "Validation: 0it [00:00, ?it/s]"
      ]
     },
     "metadata": {},
     "output_type": "display_data"
    },
    {
     "data": {
      "application/vnd.jupyter.widget-view+json": {
       "model_id": "5c08a87116544c0aa214224ad8bf4012",
       "version_major": 2,
       "version_minor": 0
      },
      "text/plain": [
       "Validation: 0it [00:00, ?it/s]"
      ]
     },
     "metadata": {},
     "output_type": "display_data"
    }
   ],
   "source": [
    "INPUT_DIM = train_dataset.features.shape[1]\n",
    "OUTPUT_DIM = 8\n",
    "NUM_HEADS = 2\n",
    "LR = 0.0001                                                                                                                                          \n",
    "DROUPOUT =  0.5\n",
    "HIDDEN_DIM = 246\n",
    "NUM_LAYERS =  2\n",
    "\n",
    "class TemporalFusionTransformer(pl.LightningModule):\n",
    "    def __init__(self, input_dim = INPUT_DIM, output_length = OUTPUT_DIM, hidden_dim = HIDDEN_DIM, lr = LR, num_heads = NUM_HEADS, probabilistic =  False, num_layers = NUM_LAYERS, dropout = DROUPOUT):\n",
    "        super(TemporalFusionTransformer, self).__init__()\n",
    "        self.input_dim = input_dim\n",
    "        self.hidden_dim = hidden_dim\n",
    "        self.lr = lr\n",
    "        self.output_length = output_length\n",
    "        self.probabilistic = probabilistic\n",
    "        self.dropout = dropout\n",
    "        self.lstm = nn.LSTM(input_size = input_dim, num_layers = num_layers, hidden_size = hidden_dim, batch_first = True, dropout = dropout)\n",
    "        self.norm = nn.LayerNorm(hidden_dim)\n",
    "        self.attention = nn.MultiheadAttention(embed_dim= hidden_dim, num_heads= NUM_HEADS, batch_first = True)\n",
    "        self.glu = nn.Sequential(\n",
    "            nn.Linear(hidden_dim, hidden_dim),\n",
    "            nn.ReLU()\n",
    "        )\n",
    "        self.fc = nn.Linear(hidden_dim, 2 if probabilistic else 1)\n",
    "      \n",
    "        self.dropout = nn.Dropout(dropout)\n",
    "        self.criterion = nn.MSELoss() if not probabilistic else self.null_loss\n",
    "\n",
    "    def forward(self, x):\n",
    "        lstm_out, _ = self.lstm(x)\n",
    "        lstm_out = self.norm(lstm_out)\n",
    "        attn_out, _ = self.attention(lstm_out, lstm_out, lstm_out) \n",
    "        combine = self.glu(attn_out) + lstm_out\n",
    "        combine = self.dropout(combine)\n",
    "        # print(combine.shape)\n",
    "        out = self.fc(combine[:, -self.output_length:])\n",
    "        # print(out.shape)\n",
    "# [:, -self.output_length:, :]\n",
    "        if self.probabilistic:\n",
    "            mu, log_std = out[:, :, 0], out[:, :, 1]\n",
    "            sigma = torch.exp(log_std)\n",
    "            return mu, sigma\n",
    "        else:\n",
    "            out = out.squeeze(-1)\n",
    "            # print(out.shape)\n",
    "            return out\n",
    "    \n",
    "    def null_loss(self, predictions, targets):\n",
    "        \"\"\"Negative Log-Likelihood Loss for probabilistic forecasting.\"\"\"\n",
    "        mu, sigma = predictions        \n",
    "        return torch.mean(0.5 * torch.log(2 * torch.pi * sigma**2) + (targets - mu)**2 / (2 * sigma**2))\n",
    "\n",
    "    def training_step(self, batch, batch_idx): \n",
    "        x, y  = batch\n",
    "        if self.probabilistic:\n",
    "            mu, sigma = self(x)\n",
    "            loss = self.null_loss((mu, sigma), y)\n",
    "        else:\n",
    "            y_pred = self(x).squeeze(-1)\n",
    "            loss = self.criterion(y_pred, y)\n",
    "        self.log('train_loss', loss, prog_bar=True)\n",
    "        return loss \n",
    "        \n",
    "    def validation_step(self, batch, batch_idx): \n",
    "        x, y = batch \n",
    "        # print(x.shape)\n",
    "        if self.probabilistic: \n",
    "            mu, sigma = self(x) \n",
    "            loss = self.null_loss((mu, sigma), y)\n",
    "        else: \n",
    "            y_pred = self(x).squeeze(-1) \n",
    "            loss = self.criterion(y_pred, y)\n",
    "        self.log('val_loss', loss, prog_bar=True)\n",
    "        return loss \n",
    "\n",
    "    def configure_optimizers(self): \n",
    "        optimizer = torch.optim.Adam(self.parameters(), lr = self.lr)\n",
    "        scheduler = torch.optim.lr_scheduler.StepLR(optimizer, step_size=10, gamma=0.5)\n",
    "        return [optimizer], [scheduler]\n",
    "\n",
    "probabilistic = False\n",
    "model = TemporalFusionTransformer(probabilistic =probabilistic) \n",
    "\n",
    "\n",
    "# Callbacks for monitoring performance\n",
    "checkpoint_callback = ModelCheckpoint(\n",
    "    monitor=\"val_loss\", \n",
    "    save_top_k=3, \n",
    "    mode=\"min\", \n",
    "    filename=\"tft-{epoch:02d}-{val_loss:.2f}\")\n",
    "\n",
    "early_stopping_callback = EarlyStopping(\n",
    "    monitor=\"val_loss\", patience=2, mode=\"min\")\n",
    "\n",
    "progress_bar = TQDMProgressBar(refresh_rate=20)\n",
    "\n",
    "# Trainer\n",
    "trainer = pl.Trainer(\n",
    "    max_epochs=15,\n",
    "    accelerator=\"mps\" if torch.backends.mps.is_available() else \"cpu\",\n",
    "    callbacks=[checkpoint_callback, early_stopping_callback, progress_bar]\n",
    ")\n",
    "\n",
    "# Train model\n",
    "trainer.fit(model, train_dataloader, test_dataloader)\n",
    "            "
   ]
  },
  {
   "cell_type": "code",
   "execution_count": 20,
   "id": "6bbbb915-dffe-4327-833b-def00f9e076d",
   "metadata": {},
   "outputs": [],
   "source": [
    "def evaluate_model(model, dataloader):\n",
    "    model.eval()\n",
    "    predictions, actuals = [], []\n",
    "    samples_all = []\n",
    "    with torch.no_grad():\n",
    "        for x, y in dataloader:\n",
    "            \n",
    "            if model.probabilistic:\n",
    "                mu, sigma = model(x)\n",
    "                num_samples = 8\n",
    "                batch_size, output_length = mu.shape\n",
    "                random_noise = torch.randn(num_samples, batch_size, output_length,device=mu.device)\n",
    "                samples = mu.unsqueeze(0) + sigma.unsqueeze(0) * random_noise\n",
    "                samples_all.append(samples.cpu().numpy())\n",
    "                preds = mu.cpu().numpy() \n",
    "            \n",
    "            \n",
    "            actual = y.cpu().numpy()\n",
    "            preds = model(x)\n",
    "            preds = preds.cpu().numpy()\n",
    "            predictions.append(preds)\n",
    "            actuals.append(actual)\n",
    "            \n",
    "    return np.array(predictions), np.array(actuals)\n",
    "\n",
    "preds, actuals = evaluate_model(model, test_dataloader)\n"
   ]
  },
  {
   "cell_type": "code",
   "execution_count": 21,
   "id": "3f299802-24c8-4250-b6c2-b5e227743b37",
   "metadata": {},
   "outputs": [
    {
     "name": "stdout",
     "output_type": "stream",
     "text": [
      "Predicted Future Temperatures (Celsius): [24.82921439 25.31664146 26.1323682  ... 24.33371245 24.19221774\n",
      " 24.03519506]\n",
      "Actual Future Temperatures (Celsius): [23.86750004 24.36750017 25.06750092 ... 24.81750106 24.61750003\n",
      " 24.26750006]\n"
     ]
    }
   ],
   "source": [
    "# Reshape predictions and actuals to a 1D array\n",
    "preds_reshaped = preds.reshape(-1, 1)  # Convert (batch_size, 12) → (batch_size * 12, 1)\n",
    "actuals_reshaped = actuals.reshape(-1, 1)\n",
    "\n",
    "# Create empty arrays matching the full feature set\n",
    "preds_expanded = np.zeros((preds_reshaped.shape[0], test_dataset.features.shape[1]))\n",
    "actuals_expanded = np.zeros((actuals_reshaped.shape[0], test_dataset.features.shape[1]))\n",
    "\n",
    "# Place temperature values in the first column\n",
    "preds_expanded[:, 0] = preds_reshaped[:, 0]\n",
    "actuals_expanded[:, 0] = actuals_reshaped[:, 0]\n",
    "\n",
    "# Apply inverse transform\n",
    "preds_real = test_dataset.scaler.inverse_transform(preds_expanded)[:, 0]\n",
    "actuals_real = test_dataset.scaler.inverse_transform(actuals_expanded)[:, 0]\n",
    "\n",
    "# Print final results\n",
    "print(\"Predicted Future Temperatures (Celsius):\", preds_real)\n",
    "print(\"Actual Future Temperatures (Celsius):\", actuals_real)\n"
   ]
  },
  {
   "cell_type": "code",
   "execution_count": 22,
   "id": "c749042c-ecfb-49ae-a15a-afba62818505",
   "metadata": {},
   "outputs": [
    {
     "data": {
      "image/png": "[encoded data removed]",
      "text/plain": [
       "<Figure size 1200x600 with 1 Axes>"
      ]
     },
     "metadata": {},
     "output_type": "display_data"
    }
   ],
   "source": [
    "plt.figure(figsize=(12, 6))\n",
    "plt.plot(actuals_real[2000:2100], label=\"Actual\")\n",
    "plt.plot(preds_real[2000:2100], label=\"Predicted\")\n",
    "plt.legend()\n",
    "plt.show()"
   ]
  },
  {
   "cell_type": "code",
   "execution_count": 23,
   "id": "1e502bc4-947c-4e58-93b4-aeb16e547ffe",
   "metadata": {},
   "outputs": [
    {
     "name": "stdout",
     "output_type": "stream",
     "text": [
      "Mean Absolute Error (MAE): 0.631 °C\n",
      "Root Mean Squared Error (RMSE): 0.795 °C\n"
     ]
    },
    {
     "data": {
      "text/plain": [
       "0.9068399521660317"
      ]
     },
     "execution_count": 23,
     "metadata": {},
     "output_type": "execute_result"
    }
   ],
   "source": [
    "from sklearn.metrics import mean_absolute_error, mean_squared_error\n",
    "\n",
    "# Compute MAE (Mean Absolute Error)\n",
    "mae = mean_absolute_error(actuals_real, preds_real)\n",
    "\n",
    "# Compute RMSE (Root Mean Squared Error)\n",
    "rmse = mean_squared_error(actuals_real, preds_real)\n",
    "\n",
    "print(f\"Mean Absolute Error (MAE): {mae:.3f} °C\")\n",
    "print(f\"Root Mean Squared Error (RMSE): {rmse:.3f} °C\")\n",
    "\n",
    "\n",
    "from sklearn.metrics import r2_score\n",
    "\n",
    "score = r2_score(preds_real, actuals_real)\n",
    "score"
   ]
  },
  {
   "cell_type": "code",
   "execution_count": 24,
   "id": "4c72f409-300d-4a47-b254-777463722624",
   "metadata": {},
   "outputs": [],
   "source": [
    "test_df = pd.read_csv('/Users/matheshanandan/Downloads/TESTING.csv')"
   ]
  },
  {
   "cell_type": "code",
   "execution_count": 25,
   "id": "900e6ff1-8380-4560-8842-7c29465ac2e9",
   "metadata": {},
   "outputs": [],
   "source": [
    "test_df['date'] = pd.to_datetime(test_df['date'])"
   ]
  },
  {
   "cell_type": "code",
   "execution_count": 26,
   "id": "86e94c38-f6f0-4078-bf57-c118051860fe",
   "metadata": {},
   "outputs": [],
   "source": [
    "testing_df = test_df[15:39]\n",
    "\n",
    "import torch\n",
    "from torch.utils.data import Dataset\n",
    "\n",
    "class WeatherDatasetTest(Dataset):\n",
    "    def __init__(self, df, history_length=24, scaler = None):\n",
    "       \n",
    "        self.history_length = history_length  # Sequence length\n",
    "        self.scaler = scaler\n",
    "        self.features = self.scaler.transform(df[[\"temperature_2m\", \"relative_humidity_2m\", \"weather_code\"]]) # Use same features\n",
    "        \n",
    "    def __len__(self):\n",
    "        return len(self.features) - self.history_length  # Avoid out-of-range indexing\n",
    "\n",
    "    def __getitem__(self, index):\n",
    "        \n",
    "        past_data = self.features[index : index + self.history_length]  # Past 24 hours\n",
    "\n",
    "        return torch.tensor(past_data, dtype=torch.float32)  # Return as tensor\n"
   ]
  },
  {
   "cell_type": "code",
   "execution_count": 27,
   "id": "ed04ffa5-fb1e-46ad-a395-3ba60f2b25bb",
   "metadata": {},
   "outputs": [],
   "source": [
    "testing_dataset = WeatherDatasetTest(testing_df, scaler = scaler)\n",
    "testing_dataset = testing_dataset[0].reshape(1,24,3)"
   ]
  },
  {
   "cell_type": "code",
   "execution_count": 28,
   "id": "bfada4ec-d1d2-4c21-b871-ee67fa5cf30c",
   "metadata": {},
   "outputs": [],
   "source": [
    "testing_dataloader = DataLoader(testing_dataset, shuffle = False,drop_last=False)"
   ]
  },
  {
   "cell_type": "code",
   "execution_count": 29,
   "id": "03e2b43c-b881-4b31-a372-40285c6b17db",
   "metadata": {},
   "outputs": [],
   "source": [
    "def evaluate_testing(model, dataloader): \n",
    "    model.eval() \n",
    "    preds = []\n",
    "    with torch.no_grad(): \n",
    "        for x in dataloader: \n",
    "            if probabilistic:\n",
    "                mu, sigma = model(x)\n",
    "                prediction = mu.cpu().numpy() \n",
    "                preds.append(prediction)\n",
    "            else: \n",
    "                prediction = model(x)\n",
    "                preds.append(prediction)\n",
    "    return np.array(preds)"
   ]
  },
  {
   "cell_type": "code",
   "execution_count": 30,
   "id": "c24c714b-b14a-41f1-858c-88ed655cedd8",
   "metadata": {},
   "outputs": [
    {
     "name": "stdout",
     "output_type": "stream",
     "text": [
      "Number of batches in DataLoader: torch.Size([1, 24, 3])\n"
     ]
    }
   ],
   "source": [
    "print(\"Number of batches in DataLoader:\", testing_dataset.shape)\n"
   ]
  },
  {
   "cell_type": "code",
   "execution_count": 31,
   "id": "01bdfd23-5412-47e6-a901-d81fc15081cc",
   "metadata": {},
   "outputs": [],
   "source": [
    "predictions = evaluate_testing(model, testing_dataloader)"
   ]
  },
  {
   "cell_type": "code",
   "execution_count": 32,
   "id": "9cd68b1e-dd0b-44f6-9576-aea2a723d517",
   "metadata": {},
   "outputs": [],
   "source": [
    "prediction_reshaped = predictions.reshape(-1,1)\n",
    "prediction_expanded = np.zeros((prediction_reshaped.shape[0], test_dataset.features.shape[1]))\n",
    "prediction_expanded[:, 0] = prediction_reshaped[:, 0]\n",
    "prediction_real = test_dataset.scaler.inverse_transform(prediction_expanded)[:, 0]"
   ]
  },
  {
   "cell_type": "code",
   "execution_count": 33,
   "id": "f465adac-d5be-4ee9-bc0b-7d7ee49bd9ee",
   "metadata": {},
   "outputs": [
    {
     "data": {
      "text/plain": [
       "array([28.60695973, 28.36923119, 28.12270769, 27.8715125 , 27.64203938,\n",
       "       27.35128648, 27.04467136, 26.6882537 ])"
      ]
     },
     "execution_count": 33,
     "metadata": {},
     "output_type": "execute_result"
    }
   ],
   "source": [
    "prediction_real"
   ]
  },
  {
   "cell_type": "code",
   "execution_count": 34,
   "id": "12a8b69c-cc9b-4c2f-bcda-792196c7f1b1",
   "metadata": {},
   "outputs": [
    {
     "data": {
      "text/plain": [
       "array([28.60695973, 28.36923119, 28.12270769, 27.8715125 , 27.64203938,\n",
       "       27.35128648, 27.04467136, 26.6882537 ])"
      ]
     },
     "execution_count": 34,
     "metadata": {},
     "output_type": "execute_result"
    }
   ],
   "source": [
    " prediction_real"
   ]
  },
  {
   "cell_type": "code",
   "execution_count": 35,
   "id": "67a75b1c-d017-40e3-b4f3-ca30cc412072",
   "metadata": {},
   "outputs": [
    {
     "data": {
      "text/markdown": [
       "Actual Temperature is **28.6**, Predicted Temperature is **28.6**, The Difference is **0.0**"
      ],
      "text/plain": [
       "<IPython.core.display.Markdown object>"
      ]
     },
     "metadata": {},
     "output_type": "display_data"
    },
    {
     "data": {
      "text/markdown": [
       "Actual Temperature is **28.4**, Predicted Temperature is **28.4**, The Difference is **0.0**"
      ],
      "text/plain": [
       "<IPython.core.display.Markdown object>"
      ]
     },
     "metadata": {},
     "output_type": "display_data"
    },
    {
     "data": {
      "text/markdown": [
       "Actual Temperature is **28.0**, Predicted Temperature is **28.1**, The Difference is **-0.1**"
      ],
      "text/plain": [
       "<IPython.core.display.Markdown object>"
      ]
     },
     "metadata": {},
     "output_type": "display_data"
    },
    {
     "data": {
      "text/markdown": [
       "Actual Temperature is **28.0**, Predicted Temperature is **27.9**, The Difference is **0.1**"
      ],
      "text/plain": [
       "<IPython.core.display.Markdown object>"
      ]
     },
     "metadata": {},
     "output_type": "display_data"
    },
    {
     "data": {
      "text/markdown": [
       "Actual Temperature is **27.8**, Predicted Temperature is **27.6**, The Difference is **0.2**"
      ],
      "text/plain": [
       "<IPython.core.display.Markdown object>"
      ]
     },
     "metadata": {},
     "output_type": "display_data"
    },
    {
     "data": {
      "text/markdown": [
       "Actual Temperature is **27.5**, Predicted Temperature is **27.4**, The Difference is **0.1**"
      ],
      "text/plain": [
       "<IPython.core.display.Markdown object>"
      ]
     },
     "metadata": {},
     "output_type": "display_data"
    },
    {
     "data": {
      "text/markdown": [
       "Actual Temperature is **27.4**, Predicted Temperature is **27.0**, The Difference is **0.4**"
      ],
      "text/plain": [
       "<IPython.core.display.Markdown object>"
      ]
     },
     "metadata": {},
     "output_type": "display_data"
    },
    {
     "data": {
      "text/markdown": [
       "Actual Temperature is **27.0**, Predicted Temperature is **26.7**, The Difference is **0.3**"
      ],
      "text/plain": [
       "<IPython.core.display.Markdown object>"
      ]
     },
     "metadata": {},
     "output_type": "display_data"
    }
   ],
   "source": [
    "from IPython.display import display, Markdown\n",
    "for i in range(8):\n",
    "    predictions_dis = np.round(prediction_real[i],1)\n",
    "    actual = test_df[39:47]['temperature_2m'].iloc[i]\n",
    "    diff = np.round((actual-predictions_dis),1)\n",
    "    display(Markdown(f'Actual Temperature is **{actual}**, Predicted Temperature is **{predictions_dis}**, The Difference is **{diff}**'))"
   ]
  },
  {
   "cell_type": "code",
   "execution_count": null,
   "id": "c9190d82-c191-4550-9c6a-8a704bb7050f",
   "metadata": {},
   "outputs": [],
   "source": []
  },
  {
   "cell_type": "code",
   "execution_count": null,
   "id": "5d0bfba1-5d80-400f-9298-d3c1766c8033",
   "metadata": {},
   "outputs": [],
   "source": []
  }
 ],
 "metadata": {
  "kernelspec": {
   "display_name": "Python (pytorch_env)",
   "language": "python",
   "name": "pytorch_env"
  },
  "language_info": {
   "codemirror_mode": {
    "name": "ipython",
    "version": 3
   },
   "file_extension": ".py",
   "mimetype": "text/x-python",
   "name": "python",
   "nbconvert_exporter": "python",
   "pygments_lexer": "ipython3",
   "version": "3.9.21"
  }
 },
 "nbformat": 4,
 "nbformat_minor": 5
}
